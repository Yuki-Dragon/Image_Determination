{
 "cells": [
  {
   "cell_type": "code",
   "execution_count": null,
   "metadata": {},
   "outputs": [],
   "source": [
    "# Build the local server to upload/check the prediction, here using Flask"
   ]
  },
  {
   "cell_type": "code",
   "execution_count": 1,
   "metadata": {},
   "outputs": [
    {
     "name": "stderr",
     "output_type": "stream",
     "text": [
      "Using TensorFlow backend.\n",
      "/Users/dragonlook/opt/anaconda3/lib/python3.7/site-packages/tensorflow/python/framework/dtypes.py:526: FutureWarning: Passing (type, 1) or '1type' as a synonym of type is deprecated; in a future version of numpy, it will be understood as (type, (1,)) / '(1,)type'.\n",
      "  _np_qint8 = np.dtype([(\"qint8\", np.int8, 1)])\n",
      "/Users/dragonlook/opt/anaconda3/lib/python3.7/site-packages/tensorflow/python/framework/dtypes.py:527: FutureWarning: Passing (type, 1) or '1type' as a synonym of type is deprecated; in a future version of numpy, it will be understood as (type, (1,)) / '(1,)type'.\n",
      "  _np_quint8 = np.dtype([(\"quint8\", np.uint8, 1)])\n",
      "/Users/dragonlook/opt/anaconda3/lib/python3.7/site-packages/tensorflow/python/framework/dtypes.py:528: FutureWarning: Passing (type, 1) or '1type' as a synonym of type is deprecated; in a future version of numpy, it will be understood as (type, (1,)) / '(1,)type'.\n",
      "  _np_qint16 = np.dtype([(\"qint16\", np.int16, 1)])\n",
      "/Users/dragonlook/opt/anaconda3/lib/python3.7/site-packages/tensorflow/python/framework/dtypes.py:529: FutureWarning: Passing (type, 1) or '1type' as a synonym of type is deprecated; in a future version of numpy, it will be understood as (type, (1,)) / '(1,)type'.\n",
      "  _np_quint16 = np.dtype([(\"quint16\", np.uint16, 1)])\n",
      "/Users/dragonlook/opt/anaconda3/lib/python3.7/site-packages/tensorflow/python/framework/dtypes.py:530: FutureWarning: Passing (type, 1) or '1type' as a synonym of type is deprecated; in a future version of numpy, it will be understood as (type, (1,)) / '(1,)type'.\n",
      "  _np_qint32 = np.dtype([(\"qint32\", np.int32, 1)])\n",
      "/Users/dragonlook/opt/anaconda3/lib/python3.7/site-packages/tensorflow/python/framework/dtypes.py:535: FutureWarning: Passing (type, 1) or '1type' as a synonym of type is deprecated; in a future version of numpy, it will be understood as (type, (1,)) / '(1,)type'.\n",
      "  np_resource = np.dtype([(\"resource\", np.ubyte, 1)])\n"
     ]
    }
   ],
   "source": [
    "import os\n",
    "from flask import Flask, request, redirect, url_for\n",
    "from werkzeug.utils import secure_filename\n",
    "\n",
    "from keras.models import Sequential, load_model\n",
    "import keras,sys\n",
    "import numpy as np\n",
    "from PIL import Image\n",
    "\n",
    "\n",
    "classes = [\"lizard\",\"dragon\",\"seadragon\"]\n",
    "num_classes = len(classes)\n",
    "image_size = 50"
   ]
  },
  {
   "cell_type": "code",
   "execution_count": null,
   "metadata": {},
   "outputs": [],
   "source": [
    "\n",
    "\n",
    "\n",
    "UPLOAD_FOLDER = './uploads'\n",
    "ALLOWED_EXTENSIONS = set(['png', 'jpg', 'gif'])\n",
    "\n",
    "app = Flask(__name__)\n",
    "app.config['UPLOAD_FOLDER'] = UPLOAD_FOLDER  # related to security, debug, intialze: see : https://exploreflask.com/en/latest/configuration.html\n",
    "\n",
    "\n",
    "def allowed_file(filename):  # the format in in the allowed exteonsion?\n",
    "    return (('.' in filename) and (filename.rsplit('.',1)[1].lower() in ALLOWED_EXTENSIONS))\n",
    "  \n",
    "@app.route('/', methods=['GET', 'POST'])\n",
    "def upload_file():\n",
    "    \n",
    "    if request.method == 'POST':\n",
    "        # if not uploaded\n",
    "        if 'file' not in request.files:\n",
    "            flash('no file detected')\n",
    "            return redirect(request.url)\n",
    "        file = request.files['file']\n",
    "        if file.filename == '':\n",
    "            flash('no file detected')\n",
    "            return redirect(request.url)\n",
    "        if file and allowed_file(file.filename):\n",
    "            \n",
    "            # save uploaded file in my local server and analyze\n",
    "            filename = secure_filename(file.filename)\n",
    "            file.save(os.path.join(app.config['UPLOAD_FOLDER'], filename))\n",
    "            filepath = os.path.join(app.config['UPLOAD_FOLDER'], filename)\n",
    "\n",
    "            model = load_model('dragon_series_distorted.h5')\n",
    "\n",
    "            image = Image.open(filepath)\n",
    "            image = image.convert('RGB')\n",
    "            image = image.resize((image_size, image_size))\n",
    "            data = np.asarray(image)\n",
    "            X = []\n",
    "            X.append(data)\n",
    "            X = np.array(X)\n",
    "\n",
    "            result = model.predict([X])[0]\n",
    "            predicted = result.argmax() \n",
    "            percentage = int(result[predicted] * 100)\n",
    "\n",
    "            return \"Name： \" + classes[predicted] + \", Percentage：\"+ str(percentage) + \" %\"\n",
    "\n",
    "\n",
    "            #return redirect(url_for('uploaded_file', filename=filename))   #: reidrect : return the page og the url \n",
    "    return '''\n",
    "    <!doctype html>\n",
    "    <html>\n",
    "    <head>\n",
    "    <meta charset=\"UTF-8\">\n",
    "    <title>Upload an image</title></head>\n",
    "    <body>\n",
    "    <h1>Click to see if that's a dragon !!</h1>\n",
    "    <form method = post enctype = multipart/form-data>\n",
    "    <p><input type=file name=file>\n",
    "    <input type=submit value=Upload>\n",
    "    </form>\n",
    "    </body>\n",
    "    </html>\n",
    "    '''\n",
    "\n",
    "\n",
    "# Prediction server\n",
    "\n",
    "from flask import send_from_directory\n",
    "\n",
    "@app.route('/uploads/<filename>')\n",
    "def uploaded_file(filename):\n",
    "    return send_from_directory(app.config['UPLOAD_FOLDER'], filename)\n"
   ]
  }
 ],
 "metadata": {
  "kernelspec": {
   "display_name": "Python 3",
   "language": "python",
   "name": "python3"
  },
  "language_info": {
   "codemirror_mode": {
    "name": "ipython",
    "version": 3
   },
   "file_extension": ".py",
   "mimetype": "text/x-python",
   "name": "python",
   "nbconvert_exporter": "python",
   "pygments_lexer": "ipython3",
   "version": "3.7.4"
  }
 },
 "nbformat": 4,
 "nbformat_minor": 2
}
