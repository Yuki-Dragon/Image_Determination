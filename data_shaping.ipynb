{
 "cells": [
  {
   "cell_type": "code",
   "execution_count": null,
   "metadata": {},
   "outputs": [],
   "source": [
    "## from jpg to ndarray"
   ]
  },
  {
   "cell_type": "code",
   "execution_count": 14,
   "metadata": {},
   "outputs": [],
   "source": [
    "from PIL import Image\n",
    "import os, glob\n",
    "import numpy as np\n",
    "from sklearn.model_selection import train_test_split\n",
    "import keras\n",
    "\n",
    "\n",
    "image_name_list = ['lizard','dragon','seadragon']\n",
    "num_list = len(image_name_list)\n",
    "image_pxl = 50\n",
    "num_used = 300\n",
    "data_name = \"dragon_series\"\n",
    "\n",
    "\n"
   ]
  },
  {
   "cell_type": "code",
   "execution_count": null,
   "metadata": {},
   "outputs": [],
   "source": [
    "X_image=[]\n",
    "Y_ind=[]\n",
    "\n",
    "for ind, name in enumerate(image_name_list):  # ind to _image_data correspondece\n",
    "    name_dir = './' + str(name)\n",
    "    image_files = glob.glob(name_dir + \"/*.jpg\")    # normal exp\n",
    "    for i, file in enumerate(image_files):\n",
    "        if i > num_used:\n",
    "            break\n",
    "        image = Image.open(file)\n",
    "        image = image.convert(\"RGB\")\n",
    "        image = image.resize((image_pxl, image_pxl)) # square\n",
    "        prepared_image = np.asarray(image)\n",
    "        X_image.append(prepared_image)\n",
    "        Y_ind.append(ind)\n",
    "        \n",
    "X_image = np.array(X_image)\n",
    "Y_ind = np.array(Y_ind)\n",
    "        \n",
    "x_train, x_test, y_train, y_test = train_test_split(X_image,Y_ind) \n",
    "xy = (x_train, x_test, y_train, y_test)\n",
    "save_data_path = './' + data_name + '.npy'\n",
    "np.save(save_data_path,xy)\n",
    "    "
   ]
  },
  {
   "cell_type": "code",
   "execution_count": null,
   "metadata": {},
   "outputs": [],
   "source": []
  }
 ],
 "metadata": {
  "kernelspec": {
   "display_name": "Python 3",
   "language": "python",
   "name": "python3"
  },
  "language_info": {
   "codemirror_mode": {
    "name": "ipython",
    "version": 3
   },
   "file_extension": ".py",
   "mimetype": "text/x-python",
   "name": "python",
   "nbconvert_exporter": "python",
   "pygments_lexer": "ipython3",
   "version": "3.7.4"
  }
 },
 "nbformat": 4,
 "nbformat_minor": 2
}
