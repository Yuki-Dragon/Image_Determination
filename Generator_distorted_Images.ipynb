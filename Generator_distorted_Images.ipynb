{
 "cells": [
  {
   "cell_type": "code",
   "execution_count": null,
   "metadata": {},
   "outputs": [],
   "source": [
    "## incresing # of original samples w/ modifyng them."
   ]
  },
  {
   "cell_type": "code",
   "execution_count": 1,
   "metadata": {},
   "outputs": [],
   "source": [
    "from PIL import Image\n",
    "import os, glob\n",
    "import numpy as np\n",
    "from sklearn import model_selection\n",
    "\n",
    "image_data_list = [\"lizard\",\"dragon\",\"seadragon\"]\n",
    "num_list = len(image_data_list)\n",
    "name_list = 'dragon_series'\n",
    "image_size = 50\n",
    "num_distorting_data = 250\n",
    "\n",
    "X_train = []\n",
    "X_test = []\n",
    "Y_train = []\n",
    "Y_test = []\n",
    "\n",
    "\n",
    "\n",
    "for ind, name in enumerate(image_data_list):\n",
    "    photos_dir = \"./\" + name\n",
    "    files = glob.glob(photos_dir + \"/*.jpg\")\n",
    "    for i, file in enumerate(files):\n",
    "        if i >= 300:\n",
    "            break\n",
    "        image = Image.open(file)\n",
    "        image = image.convert(\"RGB\")\n",
    "        image = image.resize((image_size, image_size))\n",
    "        data = np.asarray(image)\n",
    "\n",
    "        if i < num_distorting_data:\n",
    "            X_test.append(data)\n",
    "            Y_test.append(ind)\n",
    "        else:\n",
    "            for angle in range(-40,40,10):\n",
    "                img_r = image.rotate(angle)\n",
    "                data = np.asarray(img_r)\n",
    "                X_train.append(data)\n",
    "                Y_train.append(ind)\n",
    "\n",
    "                img_trans = img_r.transpose(Image.FLIP_LEFT_RIGHT) # inversion\n",
    "                data = np.asarray(img_trans)\n",
    "                X_train.append(data)\n",
    "                Y_train.append(ind)\n",
    "\n",
    "                \n",
    "X_train = np.array(X_train)\n",
    "X_test = np.array(X_test)\n",
    "y_train = np.array(Y_train)\n",
    "y_test = np.array(Y_test)\n",
    "\n",
    "\n",
    "xy = (X_train, X_test, y_train, y_test)\n",
    "savedir = \"./\" + name_list +'_distorted.npy'\n",
    "np.save(savedir, xy)\n"
   ]
  },
  {
   "cell_type": "code",
   "execution_count": null,
   "metadata": {},
   "outputs": [],
   "source": []
  }
 ],
 "metadata": {
  "kernelspec": {
   "display_name": "Python 3",
   "language": "python",
   "name": "python3"
  },
  "language_info": {
   "codemirror_mode": {
    "name": "ipython",
    "version": 3
   },
   "file_extension": ".py",
   "mimetype": "text/x-python",
   "name": "python",
   "nbconvert_exporter": "python",
   "pygments_lexer": "ipython3",
   "version": "3.7.4"
  }
 },
 "nbformat": 4,
 "nbformat_minor": 2
}
